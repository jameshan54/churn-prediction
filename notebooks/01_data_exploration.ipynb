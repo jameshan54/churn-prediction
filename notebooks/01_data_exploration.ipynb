{
 "cells": [
  {
   "cell_type": "code",
   "execution_count": null,
   "id": "30fef0ec",
   "metadata": {},
   "outputs": [],
   "source": [
    "# !pip install -r ../requirements.txt"
   ]
  },
  {
   "cell_type": "code",
   "execution_count": 4,
   "id": "e0b3b10a",
   "metadata": {},
   "outputs": [],
   "source": [
    "import pandas as pd\n",
    "\n",
    "base_path = \"../data/\"  \n",
    "\n",
    "orders = pd.read_csv(base_path + \"olist_orders_dataset.csv\")\n",
    "reviews = pd.read_csv(base_path + \"olist_order_reviews_dataset.csv\")\n",
    "items = pd.read_csv(base_path + \"olist_order_items_dataset.csv\")\n",
    "customers = pd.read_csv(base_path + \"olist_customers_dataset.csv\")\n",
    "\n",
    "# print(\"orders:\", orders.shape)\n",
    "# print(\"reviews:\", reviews.shape)\n",
    "# print(\"items:\", items.shape)\n",
    "# print(\"customers:\", customers.shape)\n",
    "\n",
    "# orders.head()"
   ]
  },
  {
   "cell_type": "code",
   "execution_count": 6,
   "id": "41ab5b14",
   "metadata": {},
   "outputs": [],
   "source": [
    "# import sys\n",
    "# !{sys.executable} -m pip install ydata-profiling\n"
   ]
  },
  {
   "cell_type": "code",
   "execution_count": 8,
   "id": "4408483a",
   "metadata": {},
   "outputs": [
    {
     "name": "stdout",
     "output_type": "stream",
     "text": [
      "Generating report for: orders\n"
     ]
    },
    {
     "name": "stderr",
     "output_type": "stream",
     "text": [
      "C:\\Users\\james\\anaconda3\\Lib\\site-packages\\ydata_profiling\\profile_report.py:365: UserWarning: Try running command: 'pip install --upgrade Pillow' to avoid ValueError\n",
      "  warnings.warn(\n"
     ]
    },
    {
     "data": {
      "application/vnd.jupyter.widget-view+json": {
       "model_id": "536c5f9c6fa14a7e96b26e5d720dc534",
       "version_major": 2,
       "version_minor": 0
      },
      "text/plain": [
       "Summarize dataset:   0%|          | 0/5 [00:00<?, ?it/s]"
      ]
     },
     "metadata": {},
     "output_type": "display_data"
    },
    {
     "name": "stderr",
     "output_type": "stream",
     "text": [
      "\n",
      "  0%|                                                                                            | 0/8 [00:00<?, ?it/s]\u001b[A\n",
      "100%|████████████████████████████████████████████████████████████████████████████████████| 8/8 [00:04<00:00,  1.74it/s]\u001b[A\n"
     ]
    },
    {
     "data": {
      "application/vnd.jupyter.widget-view+json": {
       "model_id": "fc7d62e1da894c8c927f4f003551b7dc",
       "version_major": 2,
       "version_minor": 0
      },
      "text/plain": [
       "Generate report structure:   0%|          | 0/1 [00:00<?, ?it/s]"
      ]
     },
     "metadata": {},
     "output_type": "display_data"
    },
    {
     "data": {
      "application/vnd.jupyter.widget-view+json": {
       "model_id": "8f815f59606d4d448efdc403e835ba6a",
       "version_major": 2,
       "version_minor": 0
      },
      "text/plain": [
       "Render HTML:   0%|          | 0/1 [00:00<?, ?it/s]"
      ]
     },
     "metadata": {},
     "output_type": "display_data"
    },
    {
     "data": {
      "application/vnd.jupyter.widget-view+json": {
       "model_id": "f33232c996f746ec8a6f6a344e50999d",
       "version_major": 2,
       "version_minor": 0
      },
      "text/plain": [
       "Export report to file:   0%|          | 0/1 [00:00<?, ?it/s]"
      ]
     },
     "metadata": {},
     "output_type": "display_data"
    },
    {
     "name": "stdout",
     "output_type": "stream",
     "text": [
      "Generating report for: reviews\n"
     ]
    },
    {
     "name": "stderr",
     "output_type": "stream",
     "text": [
      "C:\\Users\\james\\anaconda3\\Lib\\site-packages\\ydata_profiling\\profile_report.py:365: UserWarning: Try running command: 'pip install --upgrade Pillow' to avoid ValueError\n",
      "  warnings.warn(\n"
     ]
    },
    {
     "data": {
      "application/vnd.jupyter.widget-view+json": {
       "model_id": "05fe01a82a96423e937187c3e12cb60f",
       "version_major": 2,
       "version_minor": 0
      },
      "text/plain": [
       "Summarize dataset:   0%|          | 0/5 [00:00<?, ?it/s]"
      ]
     },
     "metadata": {},
     "output_type": "display_data"
    },
    {
     "name": "stderr",
     "output_type": "stream",
     "text": [
      "\n",
      "  0%|                                                                                            | 0/7 [00:00<?, ?it/s]\u001b[A\n",
      "100%|████████████████████████████████████████████████████████████████████████████████████| 7/7 [00:05<00:00,  1.31it/s]\u001b[A\n"
     ]
    },
    {
     "data": {
      "application/vnd.jupyter.widget-view+json": {
       "model_id": "290cea35b1eb4f9a88cbd4b5366bec26",
       "version_major": 2,
       "version_minor": 0
      },
      "text/plain": [
       "Generate report structure:   0%|          | 0/1 [00:00<?, ?it/s]"
      ]
     },
     "metadata": {},
     "output_type": "display_data"
    },
    {
     "data": {
      "application/vnd.jupyter.widget-view+json": {
       "model_id": "3fd49a81657b42b79f2776b5c42e98a3",
       "version_major": 2,
       "version_minor": 0
      },
      "text/plain": [
       "Render HTML:   0%|          | 0/1 [00:00<?, ?it/s]"
      ]
     },
     "metadata": {},
     "output_type": "display_data"
    },
    {
     "data": {
      "application/vnd.jupyter.widget-view+json": {
       "model_id": "ddbde436db57407a965f36cfc143c712",
       "version_major": 2,
       "version_minor": 0
      },
      "text/plain": [
       "Export report to file:   0%|          | 0/1 [00:00<?, ?it/s]"
      ]
     },
     "metadata": {},
     "output_type": "display_data"
    },
    {
     "name": "stdout",
     "output_type": "stream",
     "text": [
      "Generating report for: items\n"
     ]
    },
    {
     "name": "stderr",
     "output_type": "stream",
     "text": [
      "C:\\Users\\james\\anaconda3\\Lib\\site-packages\\ydata_profiling\\profile_report.py:365: UserWarning: Try running command: 'pip install --upgrade Pillow' to avoid ValueError\n",
      "  warnings.warn(\n"
     ]
    },
    {
     "data": {
      "application/vnd.jupyter.widget-view+json": {
       "model_id": "d23a1f565f0843ac9a176081ff935fb0",
       "version_major": 2,
       "version_minor": 0
      },
      "text/plain": [
       "Summarize dataset:   0%|          | 0/5 [00:00<?, ?it/s]"
      ]
     },
     "metadata": {},
     "output_type": "display_data"
    },
    {
     "name": "stderr",
     "output_type": "stream",
     "text": [
      "\n",
      "  0%|                                                                                            | 0/7 [00:00<?, ?it/s]\u001b[A\n",
      "100%|████████████████████████████████████████████████████████████████████████████████████| 7/7 [00:02<00:00,  2.42it/s]\u001b[A\n"
     ]
    },
    {
     "data": {
      "application/vnd.jupyter.widget-view+json": {
       "model_id": "01b4898f676041cfaf056a2fb38a216f",
       "version_major": 2,
       "version_minor": 0
      },
      "text/plain": [
       "Generate report structure:   0%|          | 0/1 [00:00<?, ?it/s]"
      ]
     },
     "metadata": {},
     "output_type": "display_data"
    },
    {
     "data": {
      "application/vnd.jupyter.widget-view+json": {
       "model_id": "1891811cae9b423190be96ee6e314fc4",
       "version_major": 2,
       "version_minor": 0
      },
      "text/plain": [
       "Render HTML:   0%|          | 0/1 [00:00<?, ?it/s]"
      ]
     },
     "metadata": {},
     "output_type": "display_data"
    },
    {
     "data": {
      "application/vnd.jupyter.widget-view+json": {
       "model_id": "dcc5e0380bec4cb487ec72a2b3cc2973",
       "version_major": 2,
       "version_minor": 0
      },
      "text/plain": [
       "Export report to file:   0%|          | 0/1 [00:00<?, ?it/s]"
      ]
     },
     "metadata": {},
     "output_type": "display_data"
    },
    {
     "name": "stdout",
     "output_type": "stream",
     "text": [
      "Generating report for: customers\n"
     ]
    },
    {
     "name": "stderr",
     "output_type": "stream",
     "text": [
      "C:\\Users\\james\\anaconda3\\Lib\\site-packages\\ydata_profiling\\profile_report.py:365: UserWarning: Try running command: 'pip install --upgrade Pillow' to avoid ValueError\n",
      "  warnings.warn(\n"
     ]
    },
    {
     "data": {
      "application/vnd.jupyter.widget-view+json": {
       "model_id": "cbe86b0dfefa427282ce378dea9cb765",
       "version_major": 2,
       "version_minor": 0
      },
      "text/plain": [
       "Summarize dataset:   0%|          | 0/5 [00:00<?, ?it/s]"
      ]
     },
     "metadata": {},
     "output_type": "display_data"
    },
    {
     "name": "stderr",
     "output_type": "stream",
     "text": [
      "\n",
      "  0%|                                                                                            | 0/5 [00:00<?, ?it/s]\u001b[A\n",
      "100%|████████████████████████████████████████████████████████████████████████████████████| 5/5 [00:02<00:00,  2.15it/s]\u001b[A\n"
     ]
    },
    {
     "data": {
      "application/vnd.jupyter.widget-view+json": {
       "model_id": "1de9939b41c54efb8802d98b7c38a47f",
       "version_major": 2,
       "version_minor": 0
      },
      "text/plain": [
       "Generate report structure:   0%|          | 0/1 [00:00<?, ?it/s]"
      ]
     },
     "metadata": {},
     "output_type": "display_data"
    },
    {
     "data": {
      "application/vnd.jupyter.widget-view+json": {
       "model_id": "ad4bb3b41ef8497282900a087bff1733",
       "version_major": 2,
       "version_minor": 0
      },
      "text/plain": [
       "Render HTML:   0%|          | 0/1 [00:00<?, ?it/s]"
      ]
     },
     "metadata": {},
     "output_type": "display_data"
    },
    {
     "data": {
      "application/vnd.jupyter.widget-view+json": {
       "model_id": "de864ba1e602485ca0d7e042ea89964d",
       "version_major": 2,
       "version_minor": 0
      },
      "text/plain": [
       "Export report to file:   0%|          | 0/1 [00:00<?, ?it/s]"
      ]
     },
     "metadata": {},
     "output_type": "display_data"
    }
   ],
   "source": [
    "from ydata_profiling import ProfileReport\n",
    "\n",
    "dfs = {\n",
    "    \"orders\": orders,\n",
    "    \"reviews\": reviews,\n",
    "    \"items\": items,\n",
    "    \"customers\": customers\n",
    "}\n",
    "\n",
    "for name, df in dfs.items():\n",
    "    print(f\"Generating report for: {name}\")\n",
    "    profile = ProfileReport(df, title=f\"{name.capitalize()} EDA Report\", explorative=True)\n",
    "    profile.to_file(f\"{name}_eda_report.html\")\n"
   ]
  },
  {
   "cell_type": "code",
   "execution_count": null,
   "id": "0ffc99bf",
   "metadata": {},
   "outputs": [],
   "source": [
    "# print(\"=== ORDERS ===\")\n",
    "# print(orders.shape)\n",
    "print(orders.dtypes)\n",
    "# print(orders.isnull().sum())\n",
    "# print(orders.nunique())\n",
    "# print(orders.describe())\n",
    "# print(orders.describe(include='object'))\n"
   ]
  },
  {
   "cell_type": "code",
   "execution_count": null,
   "id": "840717a5",
   "metadata": {},
   "outputs": [],
   "source": [
    "# Convert dates to datetime format\n",
    "orders[\"order_purchase_timestamp\"] = pd.to_datetime(orders[\"order_purchase_timestamp\"])\n",
    "orders[\"order_delivered_customer_date\"] = pd.to_datetime(orders[\"order_delivered_customer_date\"])\n",
    "orders[\"order_estimated_delivery_date\"] = pd.to_datetime(orders[\"order_estimated_delivery_date\"])\n",
    "\n",
    "# Calculate total number of orders and last order date per customer\n",
    "customer_orders = orders.groupby(\"customer_id\").agg(\n",
    "    total_orders=(\"order_id\", \"nunique\"),\n",
    "    last_order_date=(\"order_purchase_timestamp\", \"max\")\n",
    ").reset_index()\n",
    "\n",
    "customer_orders.head()\n"
   ]
  },
  {
   "cell_type": "code",
   "execution_count": null,
   "id": "c2649baf",
   "metadata": {},
   "outputs": [],
   "source": [
    "orders_reviews = pd.merge(orders, reviews, on=\"order_id\", how=\"inner\")\n"
   ]
  },
  {
   "cell_type": "code",
   "execution_count": null,
   "id": "1fd064ce",
   "metadata": {},
   "outputs": [],
   "source": [
    "reviews.head()"
   ]
  },
  {
   "cell_type": "code",
   "execution_count": null,
   "id": "75abd215",
   "metadata": {},
   "outputs": [],
   "source": [
    "avg_review_scores = orders_reviews.groupby(\"customer_id\").agg(\n",
    "    avg_review_score=(\"review_score\", \"mean\")\n",
    ").reset_index()\n"
   ]
  },
  {
   "cell_type": "code",
   "execution_count": null,
   "id": "428c7ef6",
   "metadata": {},
   "outputs": [],
   "source": [
    "customer_summary = pd.merge(customer_orders, avg_review_scores, on=\"customer_id\", how=\"left\")\n",
    "customer_summary.head()\n"
   ]
  },
  {
   "cell_type": "code",
   "execution_count": null,
   "id": "d444ce44",
   "metadata": {},
   "outputs": [],
   "source": [
    "# Delivery delay = actual delivery date - estimated delivery date\n",
    "orders[\"delivery_delay_days\"] = (orders[\"order_delivered_customer_date\"] - orders[\"order_estimated_delivery_date\"]).dt.days\n"
   ]
  },
  {
   "cell_type": "code",
   "execution_count": null,
   "id": "8f5b52e5",
   "metadata": {},
   "outputs": [],
   "source": [
    "avg_delay = orders.groupby(\"customer_id\").agg(\n",
    "    avg_delivery_delay=(\"delivery_delay_days\", \"mean\")\n",
    ").reset_index()\n"
   ]
  },
  {
   "cell_type": "code",
   "execution_count": null,
   "id": "6dee66b1",
   "metadata": {},
   "outputs": [],
   "source": [
    "customer_summary = pd.merge(customer_summary, avg_delay, on=\"customer_id\", how=\"left\")\n",
    "customer_summary.head()\n"
   ]
  },
  {
   "cell_type": "code",
   "execution_count": null,
   "id": "d0a4918d",
   "metadata": {},
   "outputs": [],
   "source": [
    "import matplotlib.pyplot as plt\n",
    "\n",
    "customer_summary['avg_delivery_delay'].hist(bins=30)\n",
    "plt.xlabel('Average Delivery Delay')\n",
    "plt.ylabel('Number of Customers')\n",
    "plt.title('Distribution of Average Delivery Delay')\n",
    "plt.show()\n"
   ]
  },
  {
   "cell_type": "code",
   "execution_count": null,
   "id": "c512ae9e",
   "metadata": {},
   "outputs": [],
   "source": [
    "# import sys\n",
    "# !{sys.executable} -m pip install textblob\n"
   ]
  },
  {
   "cell_type": "code",
   "execution_count": null,
   "id": "954afe56",
   "metadata": {},
   "outputs": [],
   "source": [
    "# import nltk\n",
    "# nltk.download('punkt')\n",
    "# nltk.download('averaged_perceptron_tagger')\n",
    "# nltk.download('wordnet')"
   ]
  },
  {
   "cell_type": "code",
   "execution_count": null,
   "id": "a48ab288",
   "metadata": {},
   "outputs": [],
   "source": [
    "# pip install deep-translator\n"
   ]
  },
  {
   "cell_type": "code",
   "execution_count": null,
   "id": "c9e06237",
   "metadata": {},
   "outputs": [],
   "source": [
    "from textblob import TextBlob\n",
    "from deep_translator import GoogleTranslator\n",
    "\n",
    "def get_sentiment_v2(text):\n",
    "    if pd.isnull(text) or text.strip() == \"\":\n",
    "        return None\n",
    "    try:\n",
    "        translated = GoogleTranslator(source='auto', target='en').translate(text)\n",
    "        return TextBlob(translated).sentiment.polarity\n",
    "    except:\n",
    "        return None\n"
   ]
  },
  {
   "cell_type": "code",
   "execution_count": null,
   "id": "54b29f05",
   "metadata": {},
   "outputs": [],
   "source": [
    "from tqdm.auto import tqdm\n",
    "tqdm.pandas()\n",
    "\n",
    "sample_reviews = reviews.sample(100, random_state=42).copy()\n",
    "sample_reviews[\"sentiment_score\"] = sample_reviews[\"review_comment_message\"].progress_apply(get_sentiment_v2)\n"
   ]
  },
  {
   "cell_type": "code",
   "execution_count": null,
   "id": "85fcc47f",
   "metadata": {},
   "outputs": [],
   "source": [
    "sample_reviews[\"review_comment_message\"].isnull().sum()"
   ]
  },
  {
   "cell_type": "code",
   "execution_count": null,
   "id": "06887102",
   "metadata": {},
   "outputs": [],
   "source": [
    "from deep_translator import GoogleTranslator\n",
    "\n",
    "def try_translate(text):\n",
    "    if pd.isnull(text) or text.strip() == \"\":\n",
    "        return None\n",
    "    try:\n",
    "        return GoogleTranslator(source='auto', target='en').translate(text)\n",
    "    except:\n",
    "        return None\n",
    "\n",
    "# 원문과 번역 컬럼 추가\n",
    "sample_reviews[\"translated_comment\"] = sample_reviews[\"review_comment_message\"].apply(try_translate)\n",
    "\n",
    "# 앞 100개만 보기\n",
    "sample_reviews[[\"review_comment_message\", \"translated_comment\"]].head(100)\n"
   ]
  },
  {
   "cell_type": "code",
   "execution_count": null,
   "id": "acc2692a",
   "metadata": {},
   "outputs": [],
   "source": [
    "total_by_score = reviews.groupby('review_score').size()"
   ]
  },
  {
   "cell_type": "code",
   "execution_count": null,
   "id": "c72749a1",
   "metadata": {},
   "outputs": [],
   "source": [
    "text_by_score = reviews[reviews['review_comment_message'].notnull()].groupby('review_score').size()"
   ]
  },
  {
   "cell_type": "code",
   "execution_count": null,
   "id": "e192df40",
   "metadata": {},
   "outputs": [],
   "source": [
    "text_ratio = (text_by_score / total_by_score).fillna(0).round(2)"
   ]
  },
  {
   "cell_type": "code",
   "execution_count": null,
   "id": "eb6ac59d",
   "metadata": {},
   "outputs": [],
   "source": [
    "comparison_df = pd.DataFrame({\n",
    "    'Total Reviews': total_by_score,\n",
    "    'Reviews with Text': text_by_score,\n",
    "    'Text Review Ratio': text_ratio\n",
    "})\n",
    "\n",
    "print(comparison_df)"
   ]
  },
  {
   "cell_type": "code",
   "execution_count": null,
   "id": "4a4eb8e2",
   "metadata": {},
   "outputs": [],
   "source": [
    "plt.figure(figsize=(8, 5))\n",
    "text_ratio.sort_index().plot(kind='bar', color='skyblue')\n",
    "\n",
    "plt.title('Text Review Ratio by Star Rating')\n",
    "plt.xlabel('Review Score')\n",
    "plt.ylabel('Ratio of Reviews with Text')\n",
    "plt.ylim(0, 1)\n",
    "plt.xticks(rotation=0)\n",
    "plt.grid(axis='y', linestyle='--', alpha=0.7)\n",
    "\n",
    "plt.tight_layout()\n",
    "plt.show()"
   ]
  },
  {
   "cell_type": "code",
   "execution_count": null,
   "id": "6f1dada5",
   "metadata": {},
   "outputs": [],
   "source": []
  }
 ],
 "metadata": {
  "kernelspec": {
   "display_name": "Python 3 (ipykernel)",
   "language": "python",
   "name": "python3"
  },
  "language_info": {
   "codemirror_mode": {
    "name": "ipython",
    "version": 3
   },
   "file_extension": ".py",
   "mimetype": "text/x-python",
   "name": "python",
   "nbconvert_exporter": "python",
   "pygments_lexer": "ipython3",
   "version": "3.11.5"
  }
 },
 "nbformat": 4,
 "nbformat_minor": 5
}
