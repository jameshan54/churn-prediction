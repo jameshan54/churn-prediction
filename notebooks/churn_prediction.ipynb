{
 "cells": [
  {
   "cell_type": "code",
   "execution_count": null,
   "id": "30fef0ec",
   "metadata": {},
   "outputs": [],
   "source": [
    "# !pip install -r ../requirements.txt"
   ]
  },
  {
   "cell_type": "code",
   "execution_count": 1,
   "id": "e0b3b10a",
   "metadata": {},
   "outputs": [],
   "source": [
    "import pandas as pd\n",
    "\n",
    "base_path = \"../data/\"  \n",
    "\n",
    "orders = pd.read_csv(base_path + \"olist_orders.csv\")\n",
    "items = pd.read_csv(base_path + \"olist_order_items.csv\")\n",
    "customers = pd.read_csv(base_path + \"olist_customers.csv\")\n",
    "\n",
    "# print(\"orders:\", orders.shape)\n",
    "# print(\"items:\", items.shape)\n",
    "# print(\"customers:\", customers.shape)\n",
    "\n",
    "# orders.head()"
   ]
  },
  {
   "cell_type": "code",
   "execution_count": 2,
   "id": "41ab5b14",
   "metadata": {},
   "outputs": [],
   "source": [
    "# import sys\n",
    "# !{sys.executable} -m pip install ydata-profiling\n"
   ]
  },
  {
   "cell_type": "code",
   "execution_count": 3,
   "id": "4408483a",
   "metadata": {
    "scrolled": true
   },
   "outputs": [
    {
     "data": {
      "text/html": [
       "\n",
       "            <div>\n",
       "                <ins><a href=\"https://ydata.ai/register\">Upgrade to ydata-sdk</a></ins>\n",
       "                <p>\n",
       "                    Improve your data and profiling with ydata-sdk, featuring data quality scoring, redundancy detection, outlier identification, text validation, and synthetic data generation.\n",
       "                </p>\n",
       "            </div>\n",
       "            "
      ],
      "text/plain": [
       "<IPython.core.display.HTML object>"
      ]
     },
     "metadata": {},
     "output_type": "display_data"
    },
    {
     "name": "stdout",
     "output_type": "stream",
     "text": [
      "Generating report for: orders\n"
     ]
    },
    {
     "name": "stderr",
     "output_type": "stream",
     "text": [
      "C:\\Users\\james\\anaconda3\\Lib\\site-packages\\ydata_profiling\\profile_report.py:365: UserWarning: Try running command: 'pip install --upgrade Pillow' to avoid ValueError\n",
      "  warnings.warn(\n"
     ]
    },
    {
     "data": {
      "application/vnd.jupyter.widget-view+json": {
       "model_id": "70245b4b911b44b7ab964279d4e76a93",
       "version_major": 2,
       "version_minor": 0
      },
      "text/plain": [
       "Summarize dataset:   0%|          | 0/5 [00:00<?, ?it/s]"
      ]
     },
     "metadata": {},
     "output_type": "display_data"
    },
    {
     "name": "stderr",
     "output_type": "stream",
     "text": [
      "\n",
      "  0%|                                                                                            | 0/8 [00:00<?, ?it/s]\u001b[A\n",
      " 12%|██████████▌                                                                         | 1/8 [00:04<00:33,  4.73s/it]\u001b[A\n",
      "100%|████████████████████████████████████████████████████████████████████████████████████| 8/8 [00:04<00:00,  1.62it/s]\u001b[A\n"
     ]
    },
    {
     "data": {
      "application/vnd.jupyter.widget-view+json": {
       "model_id": "b3278f75d60844779bcce30ed6ac4d81",
       "version_major": 2,
       "version_minor": 0
      },
      "text/plain": [
       "Generate report structure:   0%|          | 0/1 [00:00<?, ?it/s]"
      ]
     },
     "metadata": {},
     "output_type": "display_data"
    },
    {
     "data": {
      "application/vnd.jupyter.widget-view+json": {
       "model_id": "8060320c96aa4bc9a96f5b73f8fafc63",
       "version_major": 2,
       "version_minor": 0
      },
      "text/plain": [
       "Render HTML:   0%|          | 0/1 [00:00<?, ?it/s]"
      ]
     },
     "metadata": {},
     "output_type": "display_data"
    },
    {
     "data": {
      "application/vnd.jupyter.widget-view+json": {
       "model_id": "d980c1c1eaa34b9c962d92d520cdc287",
       "version_major": 2,
       "version_minor": 0
      },
      "text/plain": [
       "Export report to file:   0%|          | 0/1 [00:00<?, ?it/s]"
      ]
     },
     "metadata": {},
     "output_type": "display_data"
    },
    {
     "name": "stdout",
     "output_type": "stream",
     "text": [
      "Generating report for: items\n"
     ]
    },
    {
     "name": "stderr",
     "output_type": "stream",
     "text": [
      "C:\\Users\\james\\anaconda3\\Lib\\site-packages\\ydata_profiling\\profile_report.py:365: UserWarning: Try running command: 'pip install --upgrade Pillow' to avoid ValueError\n",
      "  warnings.warn(\n"
     ]
    },
    {
     "data": {
      "application/vnd.jupyter.widget-view+json": {
       "model_id": "421f5cc8f82e444ba1a7ffbb0fe24813",
       "version_major": 2,
       "version_minor": 0
      },
      "text/plain": [
       "Summarize dataset:   0%|          | 0/5 [00:00<?, ?it/s]"
      ]
     },
     "metadata": {},
     "output_type": "display_data"
    },
    {
     "name": "stderr",
     "output_type": "stream",
     "text": [
      "\n",
      "  0%|                                                                                            | 0/7 [00:00<?, ?it/s]\u001b[A\n",
      "100%|████████████████████████████████████████████████████████████████████████████████████| 7/7 [00:02<00:00,  2.69it/s]\u001b[A\n"
     ]
    },
    {
     "data": {
      "application/vnd.jupyter.widget-view+json": {
       "model_id": "37e7318821b5431482df470a060dd117",
       "version_major": 2,
       "version_minor": 0
      },
      "text/plain": [
       "Generate report structure:   0%|          | 0/1 [00:00<?, ?it/s]"
      ]
     },
     "metadata": {},
     "output_type": "display_data"
    },
    {
     "data": {
      "application/vnd.jupyter.widget-view+json": {
       "model_id": "a01b7cc26c224b66860d089dbd7efa21",
       "version_major": 2,
       "version_minor": 0
      },
      "text/plain": [
       "Render HTML:   0%|          | 0/1 [00:00<?, ?it/s]"
      ]
     },
     "metadata": {},
     "output_type": "display_data"
    },
    {
     "data": {
      "application/vnd.jupyter.widget-view+json": {
       "model_id": "6cbb2e3bebd04234bf736bcf104f382d",
       "version_major": 2,
       "version_minor": 0
      },
      "text/plain": [
       "Export report to file:   0%|          | 0/1 [00:00<?, ?it/s]"
      ]
     },
     "metadata": {},
     "output_type": "display_data"
    },
    {
     "name": "stdout",
     "output_type": "stream",
     "text": [
      "Generating report for: customers\n"
     ]
    },
    {
     "name": "stderr",
     "output_type": "stream",
     "text": [
      "C:\\Users\\james\\anaconda3\\Lib\\site-packages\\ydata_profiling\\profile_report.py:365: UserWarning: Try running command: 'pip install --upgrade Pillow' to avoid ValueError\n",
      "  warnings.warn(\n"
     ]
    },
    {
     "data": {
      "application/vnd.jupyter.widget-view+json": {
       "model_id": "1cbdc586ee0d4ff1869b19b4fff28fa3",
       "version_major": 2,
       "version_minor": 0
      },
      "text/plain": [
       "Summarize dataset:   0%|          | 0/5 [00:00<?, ?it/s]"
      ]
     },
     "metadata": {},
     "output_type": "display_data"
    },
    {
     "name": "stderr",
     "output_type": "stream",
     "text": [
      "\n",
      "  0%|                                                                                            | 0/5 [00:00<?, ?it/s]\u001b[A\n",
      "100%|████████████████████████████████████████████████████████████████████████████████████| 5/5 [00:02<00:00,  1.79it/s]\u001b[A\n"
     ]
    },
    {
     "data": {
      "application/vnd.jupyter.widget-view+json": {
       "model_id": "347a9118cb224b23a1fc9b4eb58cce63",
       "version_major": 2,
       "version_minor": 0
      },
      "text/plain": [
       "Generate report structure:   0%|          | 0/1 [00:00<?, ?it/s]"
      ]
     },
     "metadata": {},
     "output_type": "display_data"
    },
    {
     "data": {
      "application/vnd.jupyter.widget-view+json": {
       "model_id": "6ec8e7c7dc7b492a8e1de64e6e9e7ac6",
       "version_major": 2,
       "version_minor": 0
      },
      "text/plain": [
       "Render HTML:   0%|          | 0/1 [00:00<?, ?it/s]"
      ]
     },
     "metadata": {},
     "output_type": "display_data"
    },
    {
     "data": {
      "application/vnd.jupyter.widget-view+json": {
       "model_id": "e74a6bdb0e484527b8f853cce6e20af3",
       "version_major": 2,
       "version_minor": 0
      },
      "text/plain": [
       "Export report to file:   0%|          | 0/1 [00:00<?, ?it/s]"
      ]
     },
     "metadata": {},
     "output_type": "display_data"
    }
   ],
   "source": [
    "from ydata_profiling import ProfileReport\n",
    "\n",
    "dfs = {\n",
    "    \"orders\": orders,\n",
    "    \"items\": items,\n",
    "    \"customers\": customers\n",
    "}\n",
    "\n",
    "for name, df in dfs.items():\n",
    "    print(f\"Generating report for: {name}\")\n",
    "    profile = ProfileReport(df, title=f\"{name.capitalize()} EDA Report\", explorative=True)\n",
    "    profile.to_file(f\"{name}_eda_report.html\")\n"
   ]
  },
  {
   "cell_type": "code",
   "execution_count": 4,
   "id": "0ffc99bf",
   "metadata": {},
   "outputs": [
    {
     "name": "stdout",
     "output_type": "stream",
     "text": [
      "order_id                         object\n",
      "customer_id                      object\n",
      "order_status                     object\n",
      "order_purchase_timestamp         object\n",
      "order_approved_at                object\n",
      "order_delivered_carrier_date     object\n",
      "order_delivered_customer_date    object\n",
      "order_estimated_delivery_date    object\n",
      "dtype: object\n"
     ]
    }
   ],
   "source": [
    "# print(\"=== ORDERS ===\")\n",
    "# print(orders.shape)\n",
    "print(orders.dtypes)\n",
    "# print(orders.isnull().sum())\n",
    "# print(orders.nunique())\n",
    "# print(orders.describe())\n",
    "# print(orders.describe(include='object'))\n"
   ]
  },
  {
   "cell_type": "code",
   "execution_count": 5,
   "id": "840717a5",
   "metadata": {},
   "outputs": [
    {
     "data": {
      "text/html": [
       "<div>\n",
       "<style scoped>\n",
       "    .dataframe tbody tr th:only-of-type {\n",
       "        vertical-align: middle;\n",
       "    }\n",
       "\n",
       "    .dataframe tbody tr th {\n",
       "        vertical-align: top;\n",
       "    }\n",
       "\n",
       "    .dataframe thead th {\n",
       "        text-align: right;\n",
       "    }\n",
       "</style>\n",
       "<table border=\"1\" class=\"dataframe\">\n",
       "  <thead>\n",
       "    <tr style=\"text-align: right;\">\n",
       "      <th></th>\n",
       "      <th>customer_id</th>\n",
       "      <th>total_orders</th>\n",
       "      <th>last_order_date</th>\n",
       "    </tr>\n",
       "  </thead>\n",
       "  <tbody>\n",
       "    <tr>\n",
       "      <th>0</th>\n",
       "      <td>00012a2ce6f8dcda20d059ce98491703</td>\n",
       "      <td>1</td>\n",
       "      <td>2017-11-14 16:08:26</td>\n",
       "    </tr>\n",
       "    <tr>\n",
       "      <th>1</th>\n",
       "      <td>000161a058600d5901f007fab4c27140</td>\n",
       "      <td>1</td>\n",
       "      <td>2017-07-16 09:40:32</td>\n",
       "    </tr>\n",
       "    <tr>\n",
       "      <th>2</th>\n",
       "      <td>0001fd6190edaaf884bcaf3d49edf079</td>\n",
       "      <td>1</td>\n",
       "      <td>2017-02-28 11:06:43</td>\n",
       "    </tr>\n",
       "    <tr>\n",
       "      <th>3</th>\n",
       "      <td>0002414f95344307404f0ace7a26f1d5</td>\n",
       "      <td>1</td>\n",
       "      <td>2017-08-16 13:09:20</td>\n",
       "    </tr>\n",
       "    <tr>\n",
       "      <th>4</th>\n",
       "      <td>000379cdec625522490c315e70c7a9fb</td>\n",
       "      <td>1</td>\n",
       "      <td>2018-04-02 13:42:17</td>\n",
       "    </tr>\n",
       "  </tbody>\n",
       "</table>\n",
       "</div>"
      ],
      "text/plain": [
       "                        customer_id  total_orders     last_order_date\n",
       "0  00012a2ce6f8dcda20d059ce98491703             1 2017-11-14 16:08:26\n",
       "1  000161a058600d5901f007fab4c27140             1 2017-07-16 09:40:32\n",
       "2  0001fd6190edaaf884bcaf3d49edf079             1 2017-02-28 11:06:43\n",
       "3  0002414f95344307404f0ace7a26f1d5             1 2017-08-16 13:09:20\n",
       "4  000379cdec625522490c315e70c7a9fb             1 2018-04-02 13:42:17"
      ]
     },
     "execution_count": 5,
     "metadata": {},
     "output_type": "execute_result"
    }
   ],
   "source": [
    "# Convert dates to datetime format\n",
    "orders[\"order_purchase_timestamp\"] = pd.to_datetime(orders[\"order_purchase_timestamp\"])\n",
    "orders[\"order_delivered_customer_date\"] = pd.to_datetime(orders[\"order_delivered_customer_date\"])\n",
    "orders[\"order_estimated_delivery_date\"] = pd.to_datetime(orders[\"order_estimated_delivery_date\"])\n",
    "\n",
    "# Calculate total number of orders and last order date per customer\n",
    "customer_orders = orders.groupby(\"customer_id\").agg(\n",
    "    total_orders=(\"order_id\", \"nunique\"),\n",
    "    last_order_date=(\"order_purchase_timestamp\", \"max\")\n",
    ").reset_index()\n",
    "\n",
    "customer_orders.head()\n"
   ]
  },
  {
   "cell_type": "code",
   "execution_count": 6,
   "id": "d444ce44",
   "metadata": {},
   "outputs": [],
   "source": [
    "# Delivery delay = actual delivery date - estimated delivery date\n",
    "orders[\"delivery_delay_days\"] = (orders[\"order_delivered_customer_date\"] - orders[\"order_estimated_delivery_date\"]).dt.days\n"
   ]
  },
  {
   "cell_type": "code",
   "execution_count": 7,
   "id": "8f5b52e5",
   "metadata": {},
   "outputs": [],
   "source": [
    "avg_delay = orders.groupby(\"customer_id\").agg(\n",
    "    avg_delivery_delay=(\"delivery_delay_days\", \"mean\")\n",
    ").reset_index()\n"
   ]
  },
  {
   "cell_type": "code",
   "execution_count": 11,
   "id": "6dee66b1",
   "metadata": {},
   "outputs": [],
   "source": [
    "# 기준 날짜 설정 (예: 가장 마지막 주문 날짜 기준)\n",
    "reference_date = orders[\"order_purchase_timestamp\"].max()\n",
    "\n",
    "# 각 고객의 마지막 구매일로부터 얼마나 시간이 지났는지 계산\n",
    "customer_orders[\"days_since_last_order\"] = (reference_date - customer_orders[\"last_order_date\"]).dt.days\n",
    "\n",
    "# churn 라벨 정의 (예: 90일 이상이면 churn)\n",
    "customer_orders[\"churned\"] = customer_orders[\"days_since_last_order\"] > 90\n",
    "customer_orders[\"churned\"] = customer_orders[\"churned\"].astype(int)\n"
   ]
  },
  {
   "cell_type": "code",
   "execution_count": 12,
   "id": "d0a4918d",
   "metadata": {},
   "outputs": [],
   "source": [
    "# 주문별 총 금액 계산\n",
    "order_prices = items.groupby(\"order_id\").agg(\n",
    "    order_value=(\"price\", \"sum\"),\n",
    "    num_items=(\"product_id\", \"count\"),\n",
    "    unique_products=(\"product_id\", \"nunique\")\n",
    ").reset_index()\n",
    "\n",
    "# orders에 붙이기\n",
    "orders = orders.merge(order_prices, on=\"order_id\", how=\"left\")\n",
    "\n",
    "# 고객 단위 평균 주문 금액, 아이템 수 등 집계\n",
    "order_agg = orders.groupby(\"customer_id\").agg(\n",
    "    avg_order_value=(\"order_value\", \"mean\"),\n",
    "    avg_num_items=(\"num_items\", \"mean\"),\n",
    "    avg_unique_products=(\"unique_products\", \"mean\")\n",
    ").reset_index()\n"
   ]
  },
  {
   "cell_type": "code",
   "execution_count": 13,
   "id": "067ac6ca",
   "metadata": {},
   "outputs": [],
   "source": [
    "orders[\"actual_delivery_days\"] = (orders[\"order_delivered_customer_date\"] - orders[\"order_purchase_timestamp\"]).dt.days\n",
    "\n",
    "delivery_agg = orders.groupby(\"customer_id\").agg(\n",
    "    avg_actual_delivery_days=(\"actual_delivery_days\", \"mean\")\n",
    ").reset_index()\n"
   ]
  },
  {
   "cell_type": "code",
   "execution_count": 14,
   "id": "c9c058c0",
   "metadata": {
    "scrolled": true
   },
   "outputs": [
    {
     "data": {
      "text/html": [
       "<div>\n",
       "<style scoped>\n",
       "    .dataframe tbody tr th:only-of-type {\n",
       "        vertical-align: middle;\n",
       "    }\n",
       "\n",
       "    .dataframe tbody tr th {\n",
       "        vertical-align: top;\n",
       "    }\n",
       "\n",
       "    .dataframe thead th {\n",
       "        text-align: right;\n",
       "    }\n",
       "</style>\n",
       "<table border=\"1\" class=\"dataframe\">\n",
       "  <thead>\n",
       "    <tr style=\"text-align: right;\">\n",
       "      <th></th>\n",
       "      <th>customer_id</th>\n",
       "      <th>total_orders</th>\n",
       "      <th>last_order_date</th>\n",
       "      <th>days_since_last_order</th>\n",
       "      <th>churned</th>\n",
       "      <th>avg_delivery_delay</th>\n",
       "      <th>avg_order_value</th>\n",
       "      <th>avg_num_items</th>\n",
       "      <th>avg_unique_products</th>\n",
       "      <th>avg_actual_delivery_days</th>\n",
       "    </tr>\n",
       "  </thead>\n",
       "  <tbody>\n",
       "    <tr>\n",
       "      <th>0</th>\n",
       "      <td>00012a2ce6f8dcda20d059ce98491703</td>\n",
       "      <td>1</td>\n",
       "      <td>2017-11-14 16:08:26</td>\n",
       "      <td>337</td>\n",
       "      <td>1</td>\n",
       "      <td>-6.0</td>\n",
       "      <td>89.80</td>\n",
       "      <td>1.0</td>\n",
       "      <td>1.0</td>\n",
       "      <td>13.0</td>\n",
       "    </tr>\n",
       "    <tr>\n",
       "      <th>1</th>\n",
       "      <td>000161a058600d5901f007fab4c27140</td>\n",
       "      <td>1</td>\n",
       "      <td>2017-07-16 09:40:32</td>\n",
       "      <td>458</td>\n",
       "      <td>1</td>\n",
       "      <td>-10.0</td>\n",
       "      <td>54.90</td>\n",
       "      <td>1.0</td>\n",
       "      <td>1.0</td>\n",
       "      <td>9.0</td>\n",
       "    </tr>\n",
       "    <tr>\n",
       "      <th>2</th>\n",
       "      <td>0001fd6190edaaf884bcaf3d49edf079</td>\n",
       "      <td>1</td>\n",
       "      <td>2017-02-28 11:06:43</td>\n",
       "      <td>596</td>\n",
       "      <td>1</td>\n",
       "      <td>-16.0</td>\n",
       "      <td>179.99</td>\n",
       "      <td>1.0</td>\n",
       "      <td>1.0</td>\n",
       "      <td>5.0</td>\n",
       "    </tr>\n",
       "    <tr>\n",
       "      <th>3</th>\n",
       "      <td>0002414f95344307404f0ace7a26f1d5</td>\n",
       "      <td>1</td>\n",
       "      <td>2017-08-16 13:09:20</td>\n",
       "      <td>427</td>\n",
       "      <td>1</td>\n",
       "      <td>-1.0</td>\n",
       "      <td>149.90</td>\n",
       "      <td>1.0</td>\n",
       "      <td>1.0</td>\n",
       "      <td>28.0</td>\n",
       "    </tr>\n",
       "    <tr>\n",
       "      <th>4</th>\n",
       "      <td>000379cdec625522490c315e70c7a9fb</td>\n",
       "      <td>1</td>\n",
       "      <td>2018-04-02 13:42:17</td>\n",
       "      <td>198</td>\n",
       "      <td>1</td>\n",
       "      <td>-5.0</td>\n",
       "      <td>93.00</td>\n",
       "      <td>1.0</td>\n",
       "      <td>1.0</td>\n",
       "      <td>11.0</td>\n",
       "    </tr>\n",
       "  </tbody>\n",
       "</table>\n",
       "</div>"
      ],
      "text/plain": [
       "                        customer_id  total_orders     last_order_date  \\\n",
       "0  00012a2ce6f8dcda20d059ce98491703             1 2017-11-14 16:08:26   \n",
       "1  000161a058600d5901f007fab4c27140             1 2017-07-16 09:40:32   \n",
       "2  0001fd6190edaaf884bcaf3d49edf079             1 2017-02-28 11:06:43   \n",
       "3  0002414f95344307404f0ace7a26f1d5             1 2017-08-16 13:09:20   \n",
       "4  000379cdec625522490c315e70c7a9fb             1 2018-04-02 13:42:17   \n",
       "\n",
       "   days_since_last_order  churned  avg_delivery_delay  avg_order_value  \\\n",
       "0                    337        1                -6.0            89.80   \n",
       "1                    458        1               -10.0            54.90   \n",
       "2                    596        1               -16.0           179.99   \n",
       "3                    427        1                -1.0           149.90   \n",
       "4                    198        1                -5.0            93.00   \n",
       "\n",
       "   avg_num_items  avg_unique_products  avg_actual_delivery_days  \n",
       "0            1.0                  1.0                      13.0  \n",
       "1            1.0                  1.0                       9.0  \n",
       "2            1.0                  1.0                       5.0  \n",
       "3            1.0                  1.0                      28.0  \n",
       "4            1.0                  1.0                      11.0  "
      ]
     },
     "execution_count": 14,
     "metadata": {},
     "output_type": "execute_result"
    }
   ],
   "source": [
    "# 모두 customer_id 기준으로 merge\n",
    "features = customer_orders.merge(avg_delay, on=\"customer_id\", how=\"left\")\n",
    "features = features.merge(order_agg, on=\"customer_id\", how=\"left\")\n",
    "features = features.merge(delivery_agg, on=\"customer_id\", how=\"left\")\n",
    "\n",
    "features.head()\n"
   ]
  },
  {
   "cell_type": "code",
   "execution_count": null,
   "id": "0fd6accf",
   "metadata": {},
   "outputs": [],
   "source": [
    "from sklearn.model_selection import train_test_split\n",
    "\n",
    "X = features.drop(columns=[\"customer_id\", \"last_order_date\", \"days_since_last_order\", \"churned\"])\n",
    "y = features[\"churned\"]\n",
    "\n",
    "X_train, X_test, y_train, y_test = train_test_split(X, y, test_size=0.2, random_state=42, stratify=y)\n"
   ]
  },
  {
   "cell_type": "code",
   "execution_count": null,
   "id": "f33dc4e6",
   "metadata": {},
   "outputs": [],
   "source": []
  },
  {
   "cell_type": "code",
   "execution_count": null,
   "id": "b67bc2e1",
   "metadata": {},
   "outputs": [],
   "source": []
  }
 ],
 "metadata": {
  "kernelspec": {
   "display_name": "Python 3 (ipykernel)",
   "language": "python",
   "name": "python3"
  },
  "language_info": {
   "codemirror_mode": {
    "name": "ipython",
    "version": 3
   },
   "file_extension": ".py",
   "mimetype": "text/x-python",
   "name": "python",
   "nbconvert_exporter": "python",
   "pygments_lexer": "ipython3",
   "version": "3.11.5"
  }
 },
 "nbformat": 4,
 "nbformat_minor": 5
}
