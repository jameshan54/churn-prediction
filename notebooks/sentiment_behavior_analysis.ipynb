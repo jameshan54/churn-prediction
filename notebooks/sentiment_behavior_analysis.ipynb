{
 "cells": [
  {
   "cell_type": "code",
   "execution_count": null,
   "id": "ae032a04",
   "metadata": {},
   "outputs": [],
   "source": [
    "import pandas as pd\n",
    "\n",
    "base_path = \"../data/\"  \n",
    "\n",
    "reviews = pd.read_csv(base_path + \"olist_order_reviews.csv\")\n",
    "orders = pd.read_csv(base_path + \"olist_orders.csv\")\n",
    "items = pd.read_csv(base_path + \"olist_order_items.csv\")\n",
    "customers = pd.read_csv(base_path + \"olist_customers.csv\")\n",
    "\n",
    "# print(\"orders:\", orders.shape)\n",
    "# print(\"items:\", items.shape)\n",
    "# print(\"customers:\", customers.shape)\n",
    "\n",
    "# orders.head()"
   ]
  },
  {
   "cell_type": "code",
   "execution_count": null,
   "id": "59e5385f",
   "metadata": {},
   "outputs": [],
   "source": [
    "orders_reviews = pd.merge(orders, reviews, on=\"order_id\", how=\"inner\")\n"
   ]
  },
  {
   "cell_type": "code",
   "execution_count": null,
   "id": "2c7cd495",
   "metadata": {},
   "outputs": [],
   "source": [
    "reviews.head()"
   ]
  },
  {
   "cell_type": "code",
   "execution_count": null,
   "id": "65d57c57",
   "metadata": {},
   "outputs": [],
   "source": [
    "avg_review_scores = orders_reviews.groupby(\"customer_id\").agg(\n",
    "    avg_review_score=(\"review_score\", \"mean\")\n",
    ").reset_index()\n"
   ]
  },
  {
   "cell_type": "code",
   "execution_count": null,
   "id": "5aeeee23",
   "metadata": {},
   "outputs": [],
   "source": [
    "customer_summary = pd.merge(customer_orders, avg_review_scores, on=\"customer_id\", how=\"left\")\n",
    "customer_summary.head()\n"
   ]
  },
  {
   "cell_type": "code",
   "execution_count": null,
   "id": "9309c5ca",
   "metadata": {},
   "outputs": [],
   "source": [
    "# import sys\n",
    "# !{sys.executable} -m pip install textblob\n"
   ]
  },
  {
   "cell_type": "code",
   "execution_count": null,
   "id": "2a143ddd",
   "metadata": {},
   "outputs": [],
   "source": [
    "# import nltk\n",
    "# nltk.download('punkt')\n",
    "# nltk.download('averaged_perceptron_tagger')\n",
    "# nltk.download('wordnet')"
   ]
  },
  {
   "cell_type": "code",
   "execution_count": null,
   "id": "8787f4a0",
   "metadata": {},
   "outputs": [],
   "source": [
    "# pip install deep-translator\n"
   ]
  },
  {
   "cell_type": "code",
   "execution_count": null,
   "id": "d66ac781",
   "metadata": {},
   "outputs": [],
   "source": [
    "from textblob import TextBlob\n",
    "from deep_translator import GoogleTranslator\n",
    "\n",
    "def get_sentiment_v2(text):\n",
    "    if pd.isnull(text) or text.strip() == \"\":\n",
    "        return None\n",
    "    try:\n",
    "        translated = GoogleTranslator(source='auto', target='en').translate(text)\n",
    "        return TextBlob(translated).sentiment.polarity\n",
    "    except:\n",
    "        return None\n"
   ]
  },
  {
   "cell_type": "code",
   "execution_count": null,
   "id": "152bc5fc",
   "metadata": {},
   "outputs": [],
   "source": [
    "from tqdm.auto import tqdm\n",
    "tqdm.pandas()\n",
    "\n",
    "sample_reviews = reviews.sample(100, random_state=42).copy()\n",
    "sample_reviews[\"sentiment_score\"] = sample_reviews[\"review_comment_message\"].progress_apply(get_sentiment_v2)\n"
   ]
  },
  {
   "cell_type": "code",
   "execution_count": null,
   "id": "6c237b7f",
   "metadata": {},
   "outputs": [],
   "source": [
    "sample_reviews[\"review_comment_message\"].isnull().sum()"
   ]
  },
  {
   "cell_type": "code",
   "execution_count": null,
   "id": "44f6cd8a",
   "metadata": {},
   "outputs": [],
   "source": [
    "from deep_translator import GoogleTranslator\n",
    "\n",
    "def try_translate(text):\n",
    "    if pd.isnull(text) or text.strip() == \"\":\n",
    "        return None\n",
    "    try:\n",
    "        return GoogleTranslator(source='auto', target='en').translate(text)\n",
    "    except:\n",
    "        return None\n",
    "\n",
    "# 원문과 번역 컬럼 추가\n",
    "sample_reviews[\"translated_comment\"] = sample_reviews[\"review_comment_message\"].apply(try_translate)\n",
    "\n",
    "# 앞 100개만 보기\n",
    "sample_reviews[[\"review_comment_message\", \"translated_comment\"]].head(100)\n"
   ]
  },
  {
   "cell_type": "code",
   "execution_count": null,
   "id": "28f3b1fb",
   "metadata": {},
   "outputs": [],
   "source": [
    "total_by_score = reviews.groupby('review_score').size()"
   ]
  },
  {
   "cell_type": "code",
   "execution_count": null,
   "id": "b00b4d2b",
   "metadata": {},
   "outputs": [],
   "source": [
    "text_by_score = reviews[reviews['review_comment_message'].notnull()].groupby('review_score').size()"
   ]
  },
  {
   "cell_type": "code",
   "execution_count": null,
   "id": "7ef040e8",
   "metadata": {},
   "outputs": [],
   "source": [
    "text_ratio = (text_by_score / total_by_score).fillna(0).round(2)"
   ]
  },
  {
   "cell_type": "code",
   "execution_count": null,
   "id": "aafca456",
   "metadata": {},
   "outputs": [],
   "source": [
    "comparison_df = pd.DataFrame({\n",
    "    'Total Reviews': total_by_score,\n",
    "    'Reviews with Text': text_by_score,\n",
    "    'Text Review Ratio': text_ratio\n",
    "})\n",
    "\n",
    "print(comparison_df)"
   ]
  },
  {
   "cell_type": "code",
   "execution_count": null,
   "id": "7aaad7e4",
   "metadata": {},
   "outputs": [],
   "source": [
    "plt.figure(figsize=(8, 5))\n",
    "text_ratio.sort_index().plot(kind='bar', color='skyblue')\n",
    "\n",
    "plt.title('Text Review Ratio by Star Rating')\n",
    "plt.xlabel('Review Score')\n",
    "plt.ylabel('Ratio of Reviews with Text')\n",
    "plt.ylim(0, 1)\n",
    "plt.xticks(rotation=0)\n",
    "plt.grid(axis='y', linestyle='--', alpha=0.7)\n",
    "\n",
    "plt.tight_layout()\n",
    "plt.show()"
   ]
  },
  {
   "cell_type": "code",
   "execution_count": null,
   "id": "cf305ac6",
   "metadata": {},
   "outputs": [],
   "source": []
  },
  {
   "cell_type": "code",
   "execution_count": null,
   "id": "dc21c272",
   "metadata": {},
   "outputs": [],
   "source": []
  },
  {
   "cell_type": "code",
   "execution_count": null,
   "id": "62965603",
   "metadata": {},
   "outputs": [],
   "source": []
  },
  {
   "cell_type": "code",
   "execution_count": null,
   "id": "b15ad894",
   "metadata": {},
   "outputs": [],
   "source": []
  },
  {
   "cell_type": "code",
   "execution_count": null,
   "id": "f00dd90a",
   "metadata": {},
   "outputs": [],
   "source": []
  }
 ],
 "metadata": {
  "kernelspec": {
   "display_name": "Python 3 (ipykernel)",
   "language": "python",
   "name": "python3"
  },
  "language_info": {
   "codemirror_mode": {
    "name": "ipython",
    "version": 3
   },
   "file_extension": ".py",
   "mimetype": "text/x-python",
   "name": "python",
   "nbconvert_exporter": "python",
   "pygments_lexer": "ipython3",
   "version": "3.11.5"
  }
 },
 "nbformat": 4,
 "nbformat_minor": 5
}
